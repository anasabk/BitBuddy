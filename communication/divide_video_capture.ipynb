{
 "cells": [
  {
   "cell_type": "code",
   "execution_count": 6,
   "metadata": {
    "pycharm": {
     "name": "#%%\n"
    }
   },
   "outputs": [],
   "source": [
    "import os \n",
    "import cv2\n",
    "import time\n",
    "from datetime import datetime\n"
   ]
  },
  {
   "cell_type": "code",
   "execution_count": 7,
   "metadata": {},
   "outputs": [
    {
     "name": "stdout",
     "output_type": "stream",
     "text": [
      "time2.txt not found.\n"
     ]
    }
   ],
   "source": [
    "import shutil\n",
    "\n",
    "if os.path.exists(\"resimler\"):\n",
    "    shutil.rmtree(\"resimler\")\n",
    "else:\n",
    "    print(\"resimler not found.\")\n",
    "    \n",
    "if os.path.exists(\"time1.txt\"):\n",
    "    os.remove(\"time1.txt\")\n",
    "else:\n",
    "    print(\"time1.txt not found.\")\n",
    "    \n",
    "if os.path.exists(\"time2.txt\"):\n",
    "    os.remove(\"time2.txt\")\n",
    "else:\n",
    "    print(\"time2.txt not found.\")\n"
   ]
  },
  {
   "cell_type": "code",
   "execution_count": 8,
   "metadata": {
    "pycharm": {
     "name": "#%%\n"
    }
   },
   "outputs": [],
   "source": [
    "def save_image(path, counter, resim):\n",
    "    \n",
    "    resim_yolu = os.path.join(path, f\"resim_{counter}.jpg\")\n",
    "\n",
    "    \n",
    "    cv2.imwrite(resim_yolu, resim)"
   ]
  },
  {
   "cell_type": "code",
   "execution_count": 9,
   "metadata": {
    "pycharm": {
     "name": "#%%\n"
    }
   },
   "outputs": [],
   "source": [
    "def cam_to_image(path):\n",
    "    \n",
    "    fisrt_time = datetime.now()\n",
    "    \n",
    "    txt1 = open(\"time1.txt\", \"w\")\n",
    "\n",
    "    cam = cv2.VideoCapture(0)  \n",
    "\n",
    "    if not cam.isOpened():\n",
    "        print(\"cam not open.\")\n",
    "        return\n",
    "\n",
    "    counter = 0\n",
    "\n",
    "    while True:\n",
    "\n",
    "        ret, frame = cam.read()\n",
    "\n",
    "        if not ret:\n",
    "            print(\"Görüntü alınamadı.\")\n",
    "            break\n",
    "\n",
    "        cv2.imshow(\"cam\", frame)\n",
    "\n",
    "        if cv2.waitKey(1) & 0xFF == ord(\"q\"):\n",
    "            break\n",
    "\n",
    "        save_image(path, counter, frame)\n",
    "        counter += 1\n",
    "        \n",
    "        then = datetime.now()\n",
    "\n",
    "        simdi = time.mktime(then.timetuple())*1e3 + then.microsecond/1e3\n",
    "        now = time.time_ns()\n",
    "        txt1.write(f\"{now}\\n\")\n",
    "                \n",
    "        \n",
    "        \n",
    "    txt1.close()\n",
    "    cam.release()\n",
    "    cv2.destroyAllWindows()\n",
    "\n"
   ]
  },
  {
   "cell_type": "code",
   "execution_count": 10,
   "metadata": {
    "pycharm": {
     "name": "#%%\n"
    },
    "scrolled": true
   },
   "outputs": [],
   "source": [
    "path = \"resimler\"  # Resimlerin kaydedileceği klasörü belirtin\n",
    "\n",
    "if not os.path.exists(path):\n",
    "    os.makedirs(path)\n",
    "\n",
    "cam_to_image(path)\n"
   ]
  },
  {
   "cell_type": "code",
   "execution_count": null,
   "metadata": {},
   "outputs": [],
   "source": []
  }
 ],
 "metadata": {
  "kernelspec": {
   "display_name": "Python 3 (ipykernel)",
   "language": "python",
   "name": "python3"
  },
  "language_info": {
   "codemirror_mode": {
    "name": "ipython",
    "version": 3
   },
   "file_extension": ".py",
   "mimetype": "text/x-python",
   "name": "python",
   "nbconvert_exporter": "python",
   "pygments_lexer": "ipython3",
   "version": "3.10.8"
  }
 },
 "nbformat": 4,
 "nbformat_minor": 1
}
